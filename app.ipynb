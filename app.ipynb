{
 "cells": [
  {
   "cell_type": "markdown",
   "metadata": {},
   "source": [
    "## Script for INT\n"
   ]
  },
  {
   "cell_type": "code",
   "execution_count": 2,
   "metadata": {},
   "outputs": [
    {
     "name": "stdout",
     "output_type": "stream",
     "text": [
      "Entrada no válida para un entero. Se asumirá 0.\n",
      "Entero ingresado: 0\n",
      "Entrada no válida para un flotante. Se asumirá 0.0.\n",
      "Flotante ingresado: 0.0\n",
      "Cadena de texto ingresada: \n",
      "Entrada no válida para un valor booleano. Se asumirá Falso.\n",
      "Booleano P ingresado: False\n",
      "Entrada no válida para un valor booleano. Se asumirá Falso.\n",
      "Booleano q ingresado: False\n"
     ]
    }
   ],
   "source": [
    "def leer_imprimir_datos():\n",
    "    try:\n",
    "        # INT\n",
    "        entero = int(input(\"Introduce un entero: \"))\n",
    "    except ValueError:\n",
    "        print(\"Entrada no válida para un entero. Se asumirá 0.\")\n",
    "        entero = 0\n",
    "    print(\"Entero ingresado:\", entero)\n",
    "\n",
    "    try:\n",
    "        # Float\n",
    "        flotante = float(input(\"Introduce un flotante: \"))\n",
    "    except ValueError:\n",
    "        print(\"Entrada no válida para un flotante. Se asumirá 0.0.\")\n",
    "        flotante = 0.0\n",
    "    print(\"Flotante ingresado:\", flotante)\n",
    "\n",
    "    # STRING\n",
    "    cadena = input(\"Introduce una cadena de texto: \")\n",
    "    print(\"Cadena de texto ingresada:\", cadena)\n",
    "\n",
    "    \n",
    "    p = input(\"Introduce un valor booleano para P : \")\n",
    "    if p.lower() in ['true', '1']:\n",
    "        p = True\n",
    "    elif p.lower() in ['false', '0']:\n",
    "        p = False\n",
    "    else:\n",
    "        print(\"Entrada no válida para un valor booleano. Se asumirá Falso.\")\n",
    "        p = False\n",
    "    print(\"Booleano P ingresado:\", p)\n",
    "\n",
    "    q = input(\"Introduce un valor booleano para Q: \")\n",
    "    if q.lower() in ['true', '1']:\n",
    "        q = True\n",
    "    elif q.lower() in ['false', '0']:\n",
    "        q = False\n",
    "    else:\n",
    "        print(\"Entrada no válida para un valor booleano. Se asumirá Falso.\")\n",
    "        q = False\n",
    "    print(\"Booleano q ingresado:\", q)\n",
    "\n",
    "\n",
    "# Llamar a la función para ejecutar el script\n",
    "leer_imprimir_datos()"
   ]
  }
 ],
 "metadata": {
  "kernelspec": {
   "display_name": "Python 3",
   "language": "python",
   "name": "python3"
  },
  "language_info": {
   "codemirror_mode": {
    "name": "ipython",
    "version": 3
   },
   "file_extension": ".py",
   "mimetype": "text/x-python",
   "name": "python",
   "nbconvert_exporter": "python",
   "pygments_lexer": "ipython3",
   "version": "3.12.3"
  }
 },
 "nbformat": 4,
 "nbformat_minor": 2
}
